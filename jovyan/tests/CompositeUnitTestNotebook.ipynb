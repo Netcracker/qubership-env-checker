{
 "cells": [
  {
   "cell_type": "markdown",
   "id": "9e9cff3d-fecb-4ed1-9a08-204d95df2dff",
   "metadata": {
    "editable": true,
    "slideshow": {
     "slide_type": ""
    },
    "tags": []
   },
   "source": [
    "# Declaring Variables"
   ]
  },
  {
   "cell_type": "code",
   "execution_count": null,
   "id": "c5581c98-920b-4eb5-a4b0-22c64b2fcf24",
   "metadata": {
    "editable": true,
    "slideshow": {
     "slide_type": ""
    },
    "tags": [
     "parameters"
    ]
   },
   "outputs": [],
   "source": [
    "import sys\n",
    "sys.path\n",
    "if \"/home/jovyan/utils\" not in sys.path:\n",
    "    sys.path.append(\"/home/jovyan/utils\")\n",
    "if \"/home/jovyan/tests/test_utils\" not in sys.path:\n",
    "    sys.path.append(\"/home/jovyan/tests/test_utils\")\n",
    "\n",
    "from importlib import reload\n",
    "import json_parsing\n",
    "reload(json_parsing)\n",
    "import custom_reporter\n",
    "import scrapbook as sb\n",
    "\n",
    "report_name = \"CompositeUnitTestNotebook\"   # .html report name"
   ]
  },
  {
   "cell_type": "code",
   "execution_count": null,
   "id": "9559941b-5a8b-4911-a13e-c7cc584d9f43",
   "metadata": {
    "editable": true,
    "slideshow": {
     "slide_type": ""
    },
    "tags": []
   },
   "outputs": [],
   "source": [
    "result_json_list = [] # Variable for displaying information about tests in .json format\n",
    "report = custom_reporter.Report('Check_Name', 'Status', 'Description', 'Error_Description', 'Time_Execution', report_name=report_name)"
   ]
  },
  {
   "cell_type": "code",
   "execution_count": null,
   "id": "b5f9c1e1-e1e3-410a-83dc-0cba20fd94ac",
   "metadata": {
    "editable": true,
    "slideshow": {
     "slide_type": ""
    },
    "tags": []
   },
   "outputs": [],
   "source": [
    "def add_result_to_custom_report(result_list: list, description: str, check_name: str, result_json_list: str=\"\") -> dict:\n",
    "    #delete all empty elements from result_list\n",
    "    result_list = [item for item in result_list if item != '']\n",
    "    \n",
    "    #delete last element from result_list if list have extra logs (not status)\n",
    "    while result_list:\n",
    "        status = result_list[-1]\n",
    "        if status.startswith('OK') or status.startswith('FAILED'):\n",
    "            break\n",
    "        else:\n",
    "            result_list.pop()\n",
    "\n",
    "    status = result_list[-1]\n",
    "    time_exec = result_list[-2]\n",
    "    error_description = \"-\"\n",
    "    if status == \"OK\":\n",
    "        status = \"Passed\"\n",
    "    elif status.startswith(\"FAILED\"):\n",
    "        status = \"Failed\"\n",
    "        error_description = result_list[-4]\n",
    "\n",
    "    #add info to report\n",
    "    report.append(\"Status\", status,\n",
    "                  Check_Name = check_name,\n",
    "                  Description = description,\n",
    "                  Error_Description = error_description,\n",
    "                  Time_Execution = time_exec)\n",
    "\n",
    "    # create variable in .json format to Fortnight test\n",
    "    json_report = json_parsing.JsonReport()\n",
    "    if result_json_list == \"\":\n",
    "        result_json_list = json_report.add_check(check_name, status, description, error_description, time_exec)\n",
    "    else:\n",
    "        result_json_list = json_report.add_check_with_existing_json(result_json_list, check_name, status, description, \n",
    "                                                                    error_description, time_exec)\n",
    "    json_data = {\n",
    "        \"overall_result\": json_report.overall_result,\n",
    "        \"checks\": result_json_list\n",
    "    }\n",
    "    print(f\"json_data={json_data}\")\n",
    "    \n",
    "    return json_data"
   ]
  },
  {
   "cell_type": "markdown",
   "id": "e36a7da8-5c9b-4546-ae46-ff4f0df6a243",
   "metadata": {},
   "source": [
    "# Test cases\n",
    "## #2 Checks the creation of .html"
   ]
  },
  {
   "cell_type": "code",
   "execution_count": null,
   "id": "90cb2bff-b548-43f9-a145-e2f569ceb562",
   "metadata": {},
   "outputs": [],
   "source": [
    "result = !python /home/jovyan/tests/unittests/reports/html_creation_test.py\n",
    "result_json_list = add_result_to_custom_report(result, \n",
    "                            \"Makes run.sh run for notebook with '--html=true' flag enabled\", \n",
    "                            \"Checks the creation of .html\",\n",
    "                            result_json_list)"
   ]
  },
  {
   "cell_type": "markdown",
   "id": "ba587c2d-a499-4476-bb1b-a54334a37d2c",
   "metadata": {},
   "source": [
    "## #3 Checks the creation of .pdf"
   ]
  },
  {
   "cell_type": "code",
   "execution_count": null,
   "id": "ab64d1fd-f80b-4164-912c-f1fa3ee757cc",
   "metadata": {},
   "outputs": [],
   "source": [
    "result = !python /home/jovyan/tests/unittests/reports/pdf_creation_test.py\n",
    "result_json_list = add_result_to_custom_report(result, \n",
    "                            \"Makes run.sh run for notebook without flags enabled\", \n",
    "                            \"Checks the creation of .pdf\",\n",
    "                            result_json_list)"
   ]
  },
  {
   "cell_type": "markdown",
   "id": "4f054edd-6c6c-4ca7-8dfd-4051375e8f74",
   "metadata": {},
   "source": [
    "## #4 Checks the disabling creation of .pdf"
   ]
  },
  {
   "cell_type": "code",
   "execution_count": null,
   "id": "62c8a9e0-0931-425c-861a-8e657988faee",
   "metadata": {},
   "outputs": [],
   "source": [
    "result = !python /home/jovyan/tests/unittests/reports/pdf_disabling_test.py\n",
    "result_json_list = add_result_to_custom_report(result, \n",
    "                            \"Makes run.sh shell for notebook with '--pdf=false' flag enabled\", \n",
    "                            \"Checks the disabling creation of .pdf\",\n",
    "                            result_json_list)"
   ]
  },
  {
   "cell_type": "markdown",
   "id": "40d2a704-b67a-473e-b169-cf4deb7eb869",
   "metadata": {},
   "source": [
    "## #5 Checks composite run"
   ]
  },
  {
   "cell_type": "code",
   "execution_count": null,
   "id": "4c736474-b08b-4212-94c3-c1d80033dc3d",
   "metadata": {},
   "outputs": [],
   "source": [
    "result = !python /home/jovyan/tests/unittests/shells/bulk_call_test.py\n",
    "result_json_list = add_result_to_custom_report(result, \n",
    "                            \"Makes run.sh shell launch using a composite .yaml file\", \n",
    "                            \"Checks composite run\",\n",
    "                            result_json_list)"
   ]
  },
  {
   "cell_type": "markdown",
   "id": "5764283b-5c8f-4818-bc55-82d86d7e2b4a",
   "metadata": {},
   "source": [
    "## #6 Checks '-j' shell flag"
   ]
  },
  {
   "cell_type": "code",
   "execution_count": null,
   "id": "19b92735-0520-48fd-8176-356a089e6fa2",
   "metadata": {},
   "outputs": [],
   "source": [
    "result = !python /home/jovyan/tests/unittests/shells/j_flag_test.py\n",
    "result_json_list = add_result_to_custom_report(result, \n",
    "                            \"Makes run.sh shell launch using a '-j' flag (launch via json)\", \n",
    "                            \"Checks '-j' shell flag\",\n",
    "                            result_json_list)"
   ]
  },
  {
   "cell_type": "markdown",
   "id": "62076a2c-1748-41de-93fe-be8a6284e984",
   "metadata": {},
   "source": [
    "## #7 Checks '-o' shell flag"
   ]
  },
  {
   "cell_type": "code",
   "execution_count": null,
   "id": "17453dad-7303-4344-9d54-747a2e04e8db",
   "metadata": {},
   "outputs": [],
   "source": [
    "result = !python /home/jovyan/tests/unittests/shells/o_flag_test.py\n",
    "result_json_list = add_result_to_custom_report(result, \n",
    "                            \"Makes run.sh shell launch using '-o' flag for creating reports in additional folder\", \n",
    "                            \"Checks '-o' shell flag\",\n",
    "                            result_json_list)"
   ]
  },
  {
   "cell_type": "markdown",
   "id": "07a58757-e452-45fd-b6d2-a98e86161cb1",
   "metadata": {},
   "source": [
    "## #8 Checks '-y' shell flag"
   ]
  },
  {
   "cell_type": "code",
   "execution_count": null,
   "id": "6f5e8241-911f-4bb9-a4d6-9b8147810c13",
   "metadata": {},
   "outputs": [],
   "source": [
    "result = !python /home/jovyan/tests/unittests/shells/y_flag_test.py\n",
    "result_json_list = add_result_to_custom_report(result, \n",
    "                            \"Makes run.sh shell launch using a '-y' flag (launch via yaml)\", \n",
    "                            \"Checks '-y' shell flag\",\n",
    "                            result_json_list)"
   ]
  },
  {
   "cell_type": "markdown",
   "id": "dc7cf5c5-45a1-4bae-abad-afb6ad689968",
   "metadata": {},
   "source": [
    "## #9 Checks integration with S3"
   ]
  },
  {
   "cell_type": "code",
   "execution_count": null,
   "id": "91516b63-bb52-40bc-8521-cc796861ee4b",
   "metadata": {},
   "outputs": [],
   "source": [
    "result = !python /home/jovyan/tests/unittests/integrations/s3_integration_test.py\n",
    "result_json_list = add_result_to_custom_report(result,\n",
    "                                               \"Checking the functionality of integration with S3. run.sh is used to check the s3.uploadReportsByExecutedNotebookPath method\",\n",
    "                                               \"Checks integration with S3\",\n",
    "                                               result_json_list)"
   ]
  },
  {
   "cell_type": "code",
   "execution_count": null,
   "id": "89a318bc-ff78-4e21-8eb9-8f8dd9897d9e",
   "metadata": {
    "editable": true,
    "slideshow": {
     "slide_type": ""
    },
    "tags": []
   },
   "outputs": [],
   "source": [
    "json_parsing.JsonReport.save_to_file(result_json_list, \"/home/jovyan/out/tests\", f\"{report_name}.json\")\n",
    "sb.glue(\"report\", report.dict())"
   ]
  },
  {
   "cell_type": "markdown",
   "id": "b69d17cc-afef-4428-a39e-4ed5c5ecd4be",
   "metadata": {
    "editable": true,
    "slideshow": {
     "slide_type": ""
    },
    "tags": []
   },
   "source": [
    "# Final check"
   ]
  },
  {
   "cell_type": "code",
   "execution_count": null,
   "id": "62116c11-6d3d-41ca-a6c0-fc748902bbc9",
   "metadata": {
    "editable": true,
    "slideshow": {
     "slide_type": ""
    },
    "tags": [
     "result"
    ]
   },
   "outputs": [],
   "source": [
    "result_json_list['overall_result'] == 'Passed'"
   ]
  }
 ],
 "metadata": {
  "kernelspec": {
   "display_name": "Python 3 (ipykernel)",
   "language": "python",
   "name": "python3"
  },
  "language_info": {
   "codemirror_mode": {
    "name": "ipython",
    "version": 3
   },
   "file_extension": ".py",
   "mimetype": "text/x-python",
   "name": "python",
   "nbconvert_exporter": "python",
   "pygments_lexer": "ipython3",
   "version": "3.10.15"
  }
 },
 "nbformat": 4,
 "nbformat_minor": 5
}
