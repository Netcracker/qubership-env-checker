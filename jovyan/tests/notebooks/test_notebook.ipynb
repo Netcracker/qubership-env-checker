{
 "cells": [
  {
   "cell_type": "code",
   "execution_count": null,
   "id": "d8489089-a448-47cb-9e8a-b634f5f7d428",
   "metadata": {
    "editable": true,
    "slideshow": {
     "slide_type": ""
    },
    "tags": [
     "parameters"
    ]
   },
   "outputs": [],
   "source": [
    "import sys\n",
    "if \"/home/jovyan/utils\" not in sys.path:\n",
    "    sys.path.append(\"/home/jovyan/utils\")\n",
    "\n",
    "import time\n",
    "import scrapbook as sb\n",
    "import custom_reporter\n",
    "\n",
    "# mandatory run.sh orchestrator params\n",
    "result_file_path = \"\"\n",
    "report_name = \"FullChecksReport\"\n",
    "initiator = \"envchecker\"\n",
    "out_path = \"/home/jovyan/out\"\n",
    "html = True\n",
    "\n",
    "# example parameter\n",
    "namespace = \"example_namespace\""
   ]
  },
  {
   "cell_type": "code",
   "execution_count": null,
   "id": "98f9387d-c5c7-4201-918c-c5d83d40835c",
   "metadata": {
    "editable": true,
    "slideshow": {
     "slide_type": ""
    },
    "tags": []
   },
   "outputs": [],
   "source": [
    "result_list = []\n",
    "report = custom_reporter.Report('namespace', report_name=report_name)\n",
    "metric = {}\n",
    "start_time = int(time.time() * 1000)\n",
    "metric[namespace] = {'last_run': start_time, 'status': 0,\n",
    "                     'report_namespace': namespace, 'last_duration': 0,\n",
    "                     'initiator': initiator}\n",
    "\n",
    "check = \"Dummy check\"\n",
    "report.append(check, \"OK Everything is fine\", namespace=namespace)\n",
    "result_list.append(1)\n",
    "metric[namespace]['last_duration'] += int(time.time() * 1000) - start_time\n",
    "\n",
    "sb.glue(\"report\", report.dict())\n",
    "sb.glue(\"metrics\", list(metric.values()))"
   ]
  },
  {
   "cell_type": "code",
   "execution_count": null,
   "id": "3b2e7076-63eb-4006-91ae-da7effc13fe3",
   "metadata": {
    "editable": true,
    "slideshow": {
     "slide_type": ""
    },
    "tags": [
     "result"
    ]
   },
   "outputs": [],
   "source": [
    "all(x == 1 for x in result_list)"
   ]
  }
 ],
 "metadata": {
  "kernelspec": {
   "display_name": "Python 3 (ipykernel)",
   "language": "python",
   "name": "python3"
  },
  "language_info": {
   "codemirror_mode": {
    "name": "ipython",
    "version": 3
   },
   "file_extension": ".py",
   "mimetype": "text/x-python",
   "name": "python",
   "nbconvert_exporter": "python",
   "pygments_lexer": "ipython3",
   "version": "3.10.18"
  }
 },
 "nbformat": 4,
 "nbformat_minor": 5
}
